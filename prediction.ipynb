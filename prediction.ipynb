{
 "cells": [
  {
   "cell_type": "code",
   "execution_count": null,
   "id": "98679778",
   "metadata": {},
   "outputs": [],
   "source": [
    "import numpy as np\n",
    "import tensorflow as tf\n",
    "from tensorflow.keras.datasets import imdb\n",
    "from tensorflow.keras.preprocessing import sequence\n",
    "from tensorflow.keras.models import load_model"
   ]
  },
  {
   "cell_type": "code",
   "execution_count": null,
   "id": "e636d7c9",
   "metadata": {},
   "outputs": [],
   "source": [
    "# Load the IMDB word index\n",
    "word_index = imdb.get_word_index()\n",
    "reverse_word_index = {value: key for key, value in word_index.items()}\n"
   ]
  },
  {
   "cell_type": "code",
   "execution_count": null,
   "id": "392d791c",
   "metadata": {},
   "outputs": [
    {
     "name": "stderr",
     "output_type": "stream",
     "text": [
      "WARNING:absl:Compiled the loaded model, but the compiled metrics have yet to be built. `model.compile_metrics` will be empty until you train or evaluate the model.\n"
     ]
    },
    {
     "data": {
      "text/html": [
       "<pre style=\"white-space:pre;overflow-x:auto;line-height:normal;font-family:Menlo,'DejaVu Sans Mono',consolas,'Courier New',monospace\"><span style=\"font-weight: bold\">Model: \"sequential\"</span>\n",
       "</pre>\n"
      ],
      "text/plain": [
       "\u001b[1mModel: \"sequential\"\u001b[0m\n"
      ]
     },
     "metadata": {},
     "output_type": "display_data"
    },
    {
     "data": {
      "text/html": [
       "<pre style=\"white-space:pre;overflow-x:auto;line-height:normal;font-family:Menlo,'DejaVu Sans Mono',consolas,'Courier New',monospace\">┏━━━━━━━━━━━━━━━━━━━━━━━━━━━━━━━━━┳━━━━━━━━━━━━━━━━━━━━━━━━┳━━━━━━━━━━━━━━━┓\n",
       "┃<span style=\"font-weight: bold\"> Layer (type)                    </span>┃<span style=\"font-weight: bold\"> Output Shape           </span>┃<span style=\"font-weight: bold\">       Param # </span>┃\n",
       "┡━━━━━━━━━━━━━━━━━━━━━━━━━━━━━━━━━╇━━━━━━━━━━━━━━━━━━━━━━━━╇━━━━━━━━━━━━━━━┩\n",
       "│ embedding (<span style=\"color: #0087ff; text-decoration-color: #0087ff\">Embedding</span>)           │ (<span style=\"color: #00af00; text-decoration-color: #00af00\">32</span>, <span style=\"color: #00af00; text-decoration-color: #00af00\">500</span>, <span style=\"color: #00af00; text-decoration-color: #00af00\">128</span>)         │     <span style=\"color: #00af00; text-decoration-color: #00af00\">1,280,000</span> │\n",
       "├─────────────────────────────────┼────────────────────────┼───────────────┤\n",
       "│ simple_rnn (<span style=\"color: #0087ff; text-decoration-color: #0087ff\">SimpleRNN</span>)          │ (<span style=\"color: #00af00; text-decoration-color: #00af00\">32</span>, <span style=\"color: #00af00; text-decoration-color: #00af00\">128</span>)              │        <span style=\"color: #00af00; text-decoration-color: #00af00\">32,896</span> │\n",
       "├─────────────────────────────────┼────────────────────────┼───────────────┤\n",
       "│ dense (<span style=\"color: #0087ff; text-decoration-color: #0087ff\">Dense</span>)                   │ (<span style=\"color: #00af00; text-decoration-color: #00af00\">32</span>, <span style=\"color: #00af00; text-decoration-color: #00af00\">1</span>)                │           <span style=\"color: #00af00; text-decoration-color: #00af00\">129</span> │\n",
       "└─────────────────────────────────┴────────────────────────┴───────────────┘\n",
       "</pre>\n"
      ],
      "text/plain": [
       "┏━━━━━━━━━━━━━━━━━━━━━━━━━━━━━━━━━┳━━━━━━━━━━━━━━━━━━━━━━━━┳━━━━━━━━━━━━━━━┓\n",
       "┃\u001b[1m \u001b[0m\u001b[1mLayer (type)                   \u001b[0m\u001b[1m \u001b[0m┃\u001b[1m \u001b[0m\u001b[1mOutput Shape          \u001b[0m\u001b[1m \u001b[0m┃\u001b[1m \u001b[0m\u001b[1m      Param #\u001b[0m\u001b[1m \u001b[0m┃\n",
       "┡━━━━━━━━━━━━━━━━━━━━━━━━━━━━━━━━━╇━━━━━━━━━━━━━━━━━━━━━━━━╇━━━━━━━━━━━━━━━┩\n",
       "│ embedding (\u001b[38;5;33mEmbedding\u001b[0m)           │ (\u001b[38;5;34m32\u001b[0m, \u001b[38;5;34m500\u001b[0m, \u001b[38;5;34m128\u001b[0m)         │     \u001b[38;5;34m1,280,000\u001b[0m │\n",
       "├─────────────────────────────────┼────────────────────────┼───────────────┤\n",
       "│ simple_rnn (\u001b[38;5;33mSimpleRNN\u001b[0m)          │ (\u001b[38;5;34m32\u001b[0m, \u001b[38;5;34m128\u001b[0m)              │        \u001b[38;5;34m32,896\u001b[0m │\n",
       "├─────────────────────────────────┼────────────────────────┼───────────────┤\n",
       "│ dense (\u001b[38;5;33mDense\u001b[0m)                   │ (\u001b[38;5;34m32\u001b[0m, \u001b[38;5;34m1\u001b[0m)                │           \u001b[38;5;34m129\u001b[0m │\n",
       "└─────────────────────────────────┴────────────────────────┴───────────────┘\n"
      ]
     },
     "metadata": {},
     "output_type": "display_data"
    },
    {
     "data": {
      "text/html": [
       "<pre style=\"white-space:pre;overflow-x:auto;line-height:normal;font-family:Menlo,'DejaVu Sans Mono',consolas,'Courier New',monospace\"><span style=\"font-weight: bold\"> Total params: </span><span style=\"color: #00af00; text-decoration-color: #00af00\">1,313,027</span> (5.01 MB)\n",
       "</pre>\n"
      ],
      "text/plain": [
       "\u001b[1m Total params: \u001b[0m\u001b[38;5;34m1,313,027\u001b[0m (5.01 MB)\n"
      ]
     },
     "metadata": {},
     "output_type": "display_data"
    },
    {
     "data": {
      "text/html": [
       "<pre style=\"white-space:pre;overflow-x:auto;line-height:normal;font-family:Menlo,'DejaVu Sans Mono',consolas,'Courier New',monospace\"><span style=\"font-weight: bold\"> Trainable params: </span><span style=\"color: #00af00; text-decoration-color: #00af00\">1,313,025</span> (5.01 MB)\n",
       "</pre>\n"
      ],
      "text/plain": [
       "\u001b[1m Trainable params: \u001b[0m\u001b[38;5;34m1,313,025\u001b[0m (5.01 MB)\n"
      ]
     },
     "metadata": {},
     "output_type": "display_data"
    },
    {
     "data": {
      "text/html": [
       "<pre style=\"white-space:pre;overflow-x:auto;line-height:normal;font-family:Menlo,'DejaVu Sans Mono',consolas,'Courier New',monospace\"><span style=\"font-weight: bold\"> Non-trainable params: </span><span style=\"color: #00af00; text-decoration-color: #00af00\">0</span> (0.00 B)\n",
       "</pre>\n"
      ],
      "text/plain": [
       "\u001b[1m Non-trainable params: \u001b[0m\u001b[38;5;34m0\u001b[0m (0.00 B)\n"
      ]
     },
     "metadata": {},
     "output_type": "display_data"
    },
    {
     "data": {
      "text/html": [
       "<pre style=\"white-space:pre;overflow-x:auto;line-height:normal;font-family:Menlo,'DejaVu Sans Mono',consolas,'Courier New',monospace\"><span style=\"font-weight: bold\"> Optimizer params: </span><span style=\"color: #00af00; text-decoration-color: #00af00\">2</span> (12.00 B)\n",
       "</pre>\n"
      ],
      "text/plain": [
       "\u001b[1m Optimizer params: \u001b[0m\u001b[38;5;34m2\u001b[0m (12.00 B)\n"
      ]
     },
     "metadata": {},
     "output_type": "display_data"
    }
   ],
   "source": [
    "# Load the pre-trained model\n",
    "model = load_model('simple_rnn_imdb.keras')  # Match the saved file format\n",
    "model.summary()"
   ]
  },
  {
   "cell_type": "code",
   "execution_count": 6,
   "id": "c0b96b80",
   "metadata": {},
   "outputs": [
    {
     "data": {
      "text/plain": [
       "[array([[ 0.5937058 ,  0.03659787,  0.8794344 , ...,  0.5352666 ,\n",
       "         -0.863038  , -0.1317693 ],\n",
       "        [ 0.03470564,  0.02479965,  0.00181631, ...,  0.04925   ,\n",
       "         -0.05180402,  0.08893939],\n",
       "        [ 0.09343453,  0.04092073, -0.06443979, ...,  0.1956893 ,\n",
       "         -0.14275433,  0.17943047],\n",
       "        ...,\n",
       "        [-0.00784571,  0.01920666, -0.06790666, ..., -0.05015681,\n",
       "         -0.05287473, -0.03599085],\n",
       "        [-0.01904754, -0.06938975,  0.00572935, ...,  0.05879578,\n",
       "          0.0726601 ,  0.02190885],\n",
       "        [-0.04665464, -0.01987629, -0.05214494, ..., -0.06612442,\n",
       "          0.04779804, -0.06455047]], dtype=float32),\n",
       " array([[-0.11019512, -0.02069256,  0.06832655, ..., -0.03687739,\n",
       "          0.004944  ,  0.15723868],\n",
       "        [-0.00060584, -0.02954067,  0.08030377, ..., -0.03786713,\n",
       "          0.17580453,  0.06028678],\n",
       "        [-0.0581221 , -0.04490083, -0.13561378, ...,  0.02188003,\n",
       "         -0.07390004,  0.17777304],\n",
       "        ...,\n",
       "        [ 0.12304978, -0.10678419,  0.18603373, ..., -0.13490458,\n",
       "          0.11342441,  0.01732165],\n",
       "        [ 0.10626364, -0.03295334, -0.10723551, ...,  0.08653926,\n",
       "          0.09929386, -0.05915973],\n",
       "        [-0.11330443, -0.04339194,  0.02550692, ..., -0.03883702,\n",
       "          0.18569104, -0.0721553 ]], dtype=float32),\n",
       " array([[-0.08594424,  0.02740193, -0.10268185, ..., -0.06046725,\n",
       "          0.01762094, -0.0903504 ],\n",
       "        [-0.09087086, -0.04900345, -0.03913517, ..., -0.05070747,\n",
       "          0.04499537, -0.01849373],\n",
       "        [-0.19104572, -0.18216135,  0.01360497, ..., -0.06738285,\n",
       "         -0.00447366, -0.01233356],\n",
       "        ...,\n",
       "        [ 0.03467249,  0.04781716, -0.01960932, ...,  0.23899123,\n",
       "          0.03757978,  0.03195643],\n",
       "        [-0.16066292, -0.03392597, -0.07645589, ...,  0.0638713 ,\n",
       "          0.09143365, -0.02373461],\n",
       "        [ 0.11090328, -0.03191091,  0.09564752, ...,  0.03232056,\n",
       "         -0.03093549,  0.0207987 ]], dtype=float32),\n",
       " array([-0.00889389,  0.0007886 ,  0.03889064, -0.01271139, -0.01008783,\n",
       "        -0.07427447,  0.05028479,  0.00669029,  0.06643981,  0.0303774 ,\n",
       "        -0.02527851,  0.01389402,  0.02150926,  0.02995451,  0.00014242,\n",
       "        -0.00607391,  0.05729882, -0.00420506, -0.02878137, -0.05398897,\n",
       "        -0.00565481,  0.03469442,  0.0481165 , -0.04585407, -0.03693671,\n",
       "         0.06077175, -0.04691501, -0.04220419,  0.03539537, -0.00132359,\n",
       "        -0.0258351 ,  0.00267091,  0.02041133, -0.02050596,  0.01094045,\n",
       "        -0.03927996, -0.04367536,  0.0187824 ,  0.04722453, -0.05513103,\n",
       "        -0.08369514,  0.04224515, -0.05764468,  0.01568732, -0.02015444,\n",
       "         0.0533253 ,  0.0048521 , -0.04587847,  0.03250134,  0.02586753,\n",
       "        -0.06216237, -0.00098598,  0.00988285,  0.00649892,  0.03372865,\n",
       "        -0.01596685, -0.02424741, -0.01251768, -0.02685454, -0.05819616,\n",
       "         0.04760328,  0.00030718, -0.00203065, -0.03193885, -0.00622745,\n",
       "         0.02063929, -0.02926726, -0.02469306, -0.05419912,  0.00736337,\n",
       "         0.05869178, -0.02483425, -0.03713514, -0.01073496, -0.02663439,\n",
       "        -0.07098969, -0.04688374, -0.0274808 ,  0.00271911, -0.03449008,\n",
       "        -0.01370379, -0.03021133, -0.01133741,  0.03007884, -0.00340705,\n",
       "        -0.01146998,  0.02973541, -0.00502527, -0.04598826, -0.01651199,\n",
       "         0.02210494, -0.04708089,  0.04861877, -0.0038461 ,  0.00147799,\n",
       "         0.05287375, -0.00634381, -0.06062456,  0.03288676, -0.01943299,\n",
       "         0.01625375,  0.06001032,  0.03660146, -0.04895441, -0.012902  ,\n",
       "        -0.05773329, -0.03335661, -0.01727521, -0.02125541, -0.03071906,\n",
       "         0.00323805, -0.00600976, -0.05435479,  0.02684722, -0.01888646,\n",
       "        -0.021487  , -0.02574345,  0.01056028,  0.01334535,  0.03634635,\n",
       "        -0.00397448, -0.04363078, -0.07114478, -0.04685642,  0.0513427 ,\n",
       "        -0.01288112, -0.03332855,  0.01777095], dtype=float32),\n",
       " array([[ 0.09458675],\n",
       "        [ 0.10635538],\n",
       "        [ 0.16954644],\n",
       "        [-0.4600125 ],\n",
       "        [ 0.00249845],\n",
       "        [-0.09243489],\n",
       "        [-0.1660391 ],\n",
       "        [-0.01884233],\n",
       "        [ 0.21863317],\n",
       "        [-0.13818221],\n",
       "        [-0.01166977],\n",
       "        [ 0.15907298],\n",
       "        [ 0.03900362],\n",
       "        [ 0.01712762],\n",
       "        [ 0.01334242],\n",
       "        [-0.00539009],\n",
       "        [-0.20977937],\n",
       "        [-0.16159184],\n",
       "        [ 0.0676369 ],\n",
       "        [-0.0637656 ],\n",
       "        [-0.13712826],\n",
       "        [ 0.05224528],\n",
       "        [-0.28214753],\n",
       "        [ 0.00987043],\n",
       "        [-0.16947415],\n",
       "        [-0.15207292],\n",
       "        [-0.11094771],\n",
       "        [-0.13008536],\n",
       "        [-0.07009269],\n",
       "        [ 0.06979261],\n",
       "        [-0.06715371],\n",
       "        [-0.00556195],\n",
       "        [-0.22941315],\n",
       "        [-0.43243575],\n",
       "        [-0.06364607],\n",
       "        [-0.20927425],\n",
       "        [-0.10997903],\n",
       "        [ 0.23198701],\n",
       "        [-0.10288054],\n",
       "        [-0.2995874 ],\n",
       "        [-0.08520968],\n",
       "        [-0.1614961 ],\n",
       "        [-0.15281701],\n",
       "        [-0.26370096],\n",
       "        [-0.16346505],\n",
       "        [ 0.16954066],\n",
       "        [-0.30489162],\n",
       "        [-0.16326715],\n",
       "        [ 0.08101839],\n",
       "        [ 0.10267681],\n",
       "        [-0.06859086],\n",
       "        [-0.01850102],\n",
       "        [ 0.14922978],\n",
       "        [ 0.3961678 ],\n",
       "        [ 0.09882069],\n",
       "        [ 0.06885854],\n",
       "        [ 0.1343391 ],\n",
       "        [-0.5107485 ],\n",
       "        [-0.29966018],\n",
       "        [-0.17705707],\n",
       "        [-0.13996807],\n",
       "        [ 0.12655358],\n",
       "        [-0.28919047],\n",
       "        [-0.20484109],\n",
       "        [ 0.17667608],\n",
       "        [ 0.1631676 ],\n",
       "        [-0.00578314],\n",
       "        [-0.10161951],\n",
       "        [ 0.03595386],\n",
       "        [ 0.13402791],\n",
       "        [ 0.19447258],\n",
       "        [-0.17415136],\n",
       "        [-0.20558143],\n",
       "        [ 0.18757935],\n",
       "        [ 0.1238951 ],\n",
       "        [ 0.0861828 ],\n",
       "        [ 0.03128791],\n",
       "        [ 0.10741118],\n",
       "        [ 0.15080017],\n",
       "        [-0.3023616 ],\n",
       "        [ 0.24751231],\n",
       "        [-0.02007367],\n",
       "        [ 0.19320321],\n",
       "        [ 0.1839534 ],\n",
       "        [ 0.09288177],\n",
       "        [-0.23521867],\n",
       "        [-0.09683768],\n",
       "        [-0.17481367],\n",
       "        [-0.0620457 ],\n",
       "        [ 0.15426041],\n",
       "        [ 0.37798345],\n",
       "        [-0.10656346],\n",
       "        [ 0.03388137],\n",
       "        [-0.02434878],\n",
       "        [ 0.15236478],\n",
       "        [-0.225432  ],\n",
       "        [ 0.11863618],\n",
       "        [-0.26815382],\n",
       "        [ 0.20140919],\n",
       "        [ 0.20393409],\n",
       "        [-0.58357525],\n",
       "        [-0.07140929],\n",
       "        [-0.00416216],\n",
       "        [-0.20081243],\n",
       "        [-0.07859374],\n",
       "        [ 0.5264716 ],\n",
       "        [-0.17156574],\n",
       "        [ 0.19128612],\n",
       "        [ 0.05147604],\n",
       "        [-0.10857017],\n",
       "        [-0.07389389],\n",
       "        [-0.21050914],\n",
       "        [ 0.4484089 ],\n",
       "        [-0.20226541],\n",
       "        [-0.01801019],\n",
       "        [-0.05800397],\n",
       "        [ 0.08633666],\n",
       "        [ 0.11369393],\n",
       "        [-0.01532765],\n",
       "        [ 0.21909834],\n",
       "        [-0.02782347],\n",
       "        [-0.12792282],\n",
       "        [-0.03266324],\n",
       "        [-0.16904795],\n",
       "        [ 0.20791018],\n",
       "        [ 0.2994724 ],\n",
       "        [-0.05751756],\n",
       "        [-0.17098717]], dtype=float32),\n",
       " array([-0.880384], dtype=float32)]"
      ]
     },
     "execution_count": 6,
     "metadata": {},
     "output_type": "execute_result"
    }
   ],
   "source": [
    "model.get_weights()"
   ]
  },
  {
   "cell_type": "code",
   "execution_count": null,
   "id": "03f74274",
   "metadata": {},
   "outputs": [],
   "source": [
    "# Decode encoded review to text\n",
    "def decode_review(encoded_review):\n",
    "    return ' '.join([reverse_word_index.get(i - 3, '?') for i in encoded_review])\n",
    "\n",
    "# Preprocess raw input text\n",
    "def preprocess_text(text):\n",
    "    words = text.lower().split()\n",
    "    encoded_review = [word_index.get(word, 2) for word in words]  # Do NOT add 3\n",
    "    padded_review = sequence.pad_sequences([encoded_review], maxlen=500)\n",
    "    return padded_review"
   ]
  },
  {
   "cell_type": "code",
   "execution_count": null,
   "id": "f05a89b2",
   "metadata": {},
   "outputs": [],
   "source": [
    "# Predict sentiment\n",
    "def predict_sentiment(review):\n",
    "    preprocessed_input = preprocess_text(review)\n",
    "    prediction = model.predict(preprocessed_input)\n",
    "    score = float(prediction[0][0])\n",
    "    sentiment = 'Positive' if score > 0.5 else 'Negative'\n",
    "    return sentiment, score\n"
   ]
  },
  {
   "cell_type": "code",
   "execution_count": null,
   "id": "35a5bf71",
   "metadata": {},
   "outputs": [
    {
     "name": "stdout",
     "output_type": "stream",
     "text": [
      "\u001b[1m1/1\u001b[0m \u001b[32m━━━━━━━━━━━━━━━━━━━━\u001b[0m\u001b[37m\u001b[0m \u001b[1m0s\u001b[0m 260ms/step\n",
      "Review: This movie was fantastic! The acting was great and the plot was thrilling\n",
      "Sentiment: Positive\n",
      "Prediction Score: 0.5008307695388794\n"
     ]
    }
   ],
   "source": [
    "# Test example\n",
    "example_review = \"This movie was fantastic! The acting was great and the plot was thrilling\"\n",
    "sentiment, score = predict_sentiment(example_review)\n",
    "\n",
    "print(f'Review: {example_review}')\n",
    "print(f'Sentiment: {sentiment}')\n",
    "print(f'Prediction Score: {score:.4f}')"
   ]
  },
  {
   "cell_type": "code",
   "execution_count": null,
   "id": "4f550bc5",
   "metadata": {},
   "outputs": [],
   "source": []
  }
 ],
 "metadata": {
  "kernelspec": {
   "display_name": "Python 3",
   "language": "python",
   "name": "python3"
  },
  "language_info": {
   "codemirror_mode": {
    "name": "ipython",
    "version": 3
   },
   "file_extension": ".py",
   "mimetype": "text/x-python",
   "name": "python",
   "nbconvert_exporter": "python",
   "pygments_lexer": "ipython3",
   "version": "3.11.0"
  }
 },
 "nbformat": 4,
 "nbformat_minor": 5
}
